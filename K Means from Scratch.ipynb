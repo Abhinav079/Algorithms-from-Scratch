{
 "cells": [
  {
   "cell_type": "markdown",
   "metadata": {},
   "source": [
    "## This documentation includes the implementation of K means from scratch"
   ]
  },
  {
   "cell_type": "code",
   "execution_count": 1,
   "metadata": {},
   "outputs": [],
   "source": [
    "# Import the NumPy library and alias it as np for convenience\n",
    "import numpy as np\n",
    "\n",
    "# Import the pyplot module from the Matplotlib library and alias it as plt for convenience\n",
    "import matplotlib.pyplot as plt\n"
   ]
  },
  {
   "cell_type": "code",
   "execution_count": 7,
   "metadata": {},
   "outputs": [],
   "source": [
    "import numpy as np\n",
    "\n",
    "class KMeansClustering:\n",
    "    \"\"\"\n",
    "    KMeansClustering class implements the k-means clustering algorithm for grouping data points into k clusters.\n",
    "\n",
    "    Parameters:\n",
    "    - k (int): Number of clusters (default is 3).\n",
    "    \"\"\"\n",
    "\n",
    "    def __init__(self, k=3) -> None:\n",
    "        \"\"\"\n",
    "        Constructor method to initialize the KMeansClustering object.\n",
    "\n",
    "        Parameters:\n",
    "        - k (int): Number of clusters (default is 3).\n",
    "        \"\"\"\n",
    "        self.k = k\n",
    "        self.centroids = None\n",
    "\n",
    "    @staticmethod\n",
    "    def euclidean_distance(data_point, centroids):\n",
    "        \"\"\"\n",
    "        Static method to calculate the Euclidean distance between a data point and all centroids.\n",
    "\n",
    "        Parameters:\n",
    "        - data_point (numpy.ndarray): Data point for which distances are calculated.\n",
    "        - centroids (numpy.ndarray): Centroids of the clusters.\n",
    "\n",
    "        Returns:\n",
    "        - numpy.ndarray: Array of Euclidean distances between the data point and each centroid.\n",
    "        \"\"\"\n",
    "        return np.sqrt(np.sum((centroids - data_point) ** 2, axis=1))\n",
    "\n",
    "    def fit(self, X, max_iterations=200):\n",
    "        \"\"\"\n",
    "        Fit the k-means clustering model to the input data.\n",
    "\n",
    "        Parameters:\n",
    "        - X (numpy.ndarray): Input data with shape (n_samples, n_features).\n",
    "        - max_iterations (int): Maximum number of iterations for the k-means algorithm (default is 200).\n",
    "\n",
    "        Returns:\n",
    "        - numpy.ndarray: Array of cluster assignments for each data point.\n",
    "        \"\"\"\n",
    "        # Initialize centroids randomly within the range of the data\n",
    "        self.centroids = np.random.uniform(np.amin(X, axis=0), np.amax(X, axis=0), size=(self.k, X.shape[1]))\n",
    "\n",
    "        for _ in range(max_iterations):\n",
    "            # Assign each data point to the nearest centroid\n",
    "            y = [np.argmin(KMeansClustering.euclidean_distance(data_point, self.centroids)) for data_point in X]\n",
    "            y = np.array(y)\n",
    "\n",
    "            # Update cluster indices\n",
    "            cluster_indices = [np.argwhere(y == i) for i in range(self.k)]\n",
    "\n",
    "            # Update cluster centers based on mean of assigned data points\n",
    "            cluster_centers = [np.mean(X[indices], axis=0)[0] if len(indices) > 0 else self.centroids[i] for i, indices in enumerate(cluster_indices)]\n",
    "\n",
    "            # Check for convergence\n",
    "            if np.max(self.centroids - np.array(cluster_centers)) < 0.0001:\n",
    "                break\n",
    "            else:\n",
    "                self.centroids = np.array(cluster_centers)\n",
    "\n",
    "        return y\n"
   ]
  },
  {
   "cell_type": "code",
   "execution_count": 8,
   "metadata": {},
   "outputs": [],
   "source": [
    "# Generate a NumPy array of random integers representing 100 points in a 2D space\n",
    "# The integers are in the range [0, 100), and the array has a shape of (100, 2)\n",
    "random_points = np.random.randint(0, 100, size=(100, 2))\n"
   ]
  },
  {
   "cell_type": "code",
   "execution_count": 9,
   "metadata": {},
   "outputs": [
    {
     "data": {
      "text/plain": [
       "array([[31, 46],\n",
       "       [38, 76],\n",
       "       [54, 57],\n",
       "       [80, 22],\n",
       "       [89,  5],\n",
       "       [77, 23],\n",
       "       [64, 71],\n",
       "       [52, 19],\n",
       "       [69, 96],\n",
       "       [99, 91],\n",
       "       [39,  3],\n",
       "       [92, 10],\n",
       "       [74, 92],\n",
       "       [61,  4],\n",
       "       [40, 53],\n",
       "       [ 2, 43],\n",
       "       [21, 67],\n",
       "       [ 4, 92],\n",
       "       [89, 63],\n",
       "       [ 4, 81],\n",
       "       [47, 97],\n",
       "       [82, 73],\n",
       "       [82, 29],\n",
       "       [56, 50],\n",
       "       [20, 28],\n",
       "       [10, 72],\n",
       "       [13, 13],\n",
       "       [78, 97],\n",
       "       [35, 96],\n",
       "       [35,  4],\n",
       "       [17,  7],\n",
       "       [51, 93],\n",
       "       [72, 50],\n",
       "       [66, 14],\n",
       "       [39, 85],\n",
       "       [23, 89],\n",
       "       [45,  1],\n",
       "       [ 2, 13],\n",
       "       [42, 50],\n",
       "       [ 3, 47],\n",
       "       [60, 23],\n",
       "       [81, 42],\n",
       "       [32, 52],\n",
       "       [11, 17],\n",
       "       [43, 81],\n",
       "       [40, 98],\n",
       "       [98, 55],\n",
       "       [84, 15],\n",
       "       [99, 21],\n",
       "       [38, 31],\n",
       "       [30, 10],\n",
       "       [85, 72],\n",
       "       [ 5, 67],\n",
       "       [79, 84],\n",
       "       [14, 40],\n",
       "       [49, 79],\n",
       "       [83, 51],\n",
       "       [ 4, 35],\n",
       "       [ 4, 96],\n",
       "       [79,  5],\n",
       "       [65, 60],\n",
       "       [84, 90],\n",
       "       [44, 63],\n",
       "       [39, 10],\n",
       "       [38, 58],\n",
       "       [57, 48],\n",
       "       [47, 38],\n",
       "       [94, 90],\n",
       "       [20, 28],\n",
       "       [72, 52],\n",
       "       [89, 31],\n",
       "       [58, 67],\n",
       "       [54, 90],\n",
       "       [12, 76],\n",
       "       [95, 94],\n",
       "       [80, 42],\n",
       "       [ 2, 46],\n",
       "       [41, 98],\n",
       "       [78, 90],\n",
       "       [67, 39],\n",
       "       [13, 82],\n",
       "       [31, 11],\n",
       "       [49, 82],\n",
       "       [44,  2],\n",
       "       [28, 98],\n",
       "       [ 5, 13],\n",
       "       [ 9, 70],\n",
       "       [62, 55],\n",
       "       [27, 13],\n",
       "       [78, 11],\n",
       "       [75, 75],\n",
       "       [27, 87],\n",
       "       [20, 51],\n",
       "       [44,  1],\n",
       "       [48, 31],\n",
       "       [22, 71],\n",
       "       [73, 89],\n",
       "       [76, 10],\n",
       "       [77, 20],\n",
       "       [ 9, 60]])"
      ]
     },
     "execution_count": 9,
     "metadata": {},
     "output_type": "execute_result"
    }
   ],
   "source": [
    "random_points"
   ]
  },
  {
   "cell_type": "code",
   "execution_count": 10,
   "metadata": {},
   "outputs": [],
   "source": [
    "# Create an instance of the KMeansClustering class with k=3\n",
    "kmeans = KMeansClustering(k=3)\n",
    "\n",
    "# Fit the k-means clustering model to the random_points dataset and obtain cluster labels\n",
    "labels = kmeans.fit(random_points)\n"
   ]
  },
  {
   "cell_type": "code",
   "execution_count": 12,
   "metadata": {},
   "outputs": [
    {
     "data": {
      "image/png": "[encoded data removed]",
      "text/plain": [
       "<Figure size 640x480 with 1 Axes>"
      ]
     },
     "metadata": {},
     "output_type": "display_data"
    }
   ],
   "source": [
    "# Create a scatter plot of the random_points dataset with color-coded points based on cluster assignments\n",
    "plt.scatter(random_points[:, 0], random_points[:, 1], c=labels)\n",
    "\n",
    "# Overlay the centroids on the scatter plot with a different marker and color\n",
    "# Centroids are marked with '*' and color-coded based on their indices\n",
    "plt.scatter(kmeans.centroids[:, 0], kmeans.centroids[:, 1], c=range(len(kmeans.centroids)), marker='*', s=200)\n",
    "\n",
    "# Display the plot\n",
    "plt.show()\n"
   ]
  },
  {
   "cell_type": "code",
   "execution_count": null,
   "metadata": {},
   "outputs": [],
   "source": []
  }
 ],
 "metadata": {
  "kernelspec": {
   "display_name": "base",
   "language": "python",
   "name": "python3"
  },
  "language_info": {
   "codemirror_mode": {
    "name": "ipython",
    "version": 3
   },
   "file_extension": ".py",
   "mimetype": "text/x-python",
   "name": "python",
   "nbconvert_exporter": "python",
   "pygments_lexer": "ipython3",
   "version": "3.11.5"
  }
 },
 "nbformat": 4,
 "nbformat_minor": 2
}
