{
 "cells": [
  {
   "cell_type": "markdown",
   "metadata": {},
   "source": [
    "### Random Forest Implementation from Scratch\n",
    "\n",
    "# Introduction\n",
    "\n",
    "### In this notebook, we'll implement a Random Forest algorithm from scratch without using any external libraries. The Random Forest will consist of Decision Trees, and we'll use it for a simple binary classification problem.\n",
    "\n",
    "## Step 1: Decision Tree Implementation\n",
    "\n",
    "### Let's start by implementing a basic Decision Tree class. The Decision Tree will be used as a base learner within our Random Forest.\n"
   ]
  },
  {
   "cell_type": "code",
   "execution_count": 3,
   "metadata": {},
   "outputs": [],
   "source": [
    "import numpy as np\n",
    "import matplotlib.pyplot as plt"
   ]
  },
  {
   "cell_type": "code",
   "execution_count": 9,
   "metadata": {},
   "outputs": [],
   "source": [
    "class DecisionTree:\n",
    "    def __init__(self, max_depth=None):\n",
    "        \"\"\"Initialize the Decision Tree.\n",
    "        Parameters:\n",
    "        - max_depth (int): The maximum depth of the tree. If None, the tree will grow until each leaf contains less than 2 samples.\n",
    "        \"\"\"\n",
    "        self.max_depth = max_depth\n",
    "        self.feature_index = None\n",
    "        self.threshold = None\n",
    "        self.left = None\n",
    "        self.right = None\n",
    "        self.value = None  # For leaf nodes, store the predicted value\n",
    "\n",
    "    def fit(self, X, y, depth=0):\n",
    "        \"\"\"Fit the Decision Tree to the training data.\n",
    "\n",
    "        Parameters:\n",
    "        - X (numpy.ndarray): The input features.\n",
    "        - y (numpy.ndarray): The target values.\n",
    "        - depth (int): The current depth of the tree.\n",
    "        \"\"\"\n",
    "        n_samples, n_features = X.shape\n",
    "        unique_classes = np.unique(y)\n",
    "\n",
    "        # Check termination conditions\n",
    "        if (self.max_depth is not None and depth == self.max_depth) or len(unique_classes) == 1 or n_samples < 2:\n",
    "            # If maximum depth reached, or only one class in the data, create a leaf node\n",
    "            self.value = unique_classes[0]\n",
    "            return\n",
    "\n",
    "        # Find the best split\n",
    "        best_gini = float('inf')\n",
    "        for feature_index in range(n_features):\n",
    "            thresholds = np.unique(X[:, feature_index])\n",
    "            for threshold in thresholds:\n",
    "                left_mask = X[:, feature_index] <= threshold\n",
    "                right_mask = ~left_mask\n",
    "                gini = self.calculate_gini_index(y, left_mask, right_mask)\n",
    "\n",
    "                if gini < best_gini:\n",
    "                    best_gini = gini\n",
    "                    self.feature_index = feature_index\n",
    "                    self.threshold = threshold\n",
    "\n",
    "        if best_gini == float('inf'):\n",
    "            # Unable to find a split (all samples have the same feature values)\n",
    "            self.value = unique_classes[0]\n",
    "            return\n",
    "\n",
    "        # Split the data\n",
    "        left_mask = X[:, self.feature_index] <= self.threshold\n",
    "        right_mask = ~left_mask\n",
    "        self.left = DecisionTree(max_depth=self.max_depth)\n",
    "        self.right = DecisionTree(max_depth=self.max_depth)\n",
    "        self.left.fit(X[left_mask, :], y[left_mask], depth + 1)\n",
    "        self.right.fit(X[right_mask, :], y[right_mask], depth + 1)\n",
    "\n",
    "    def predict(self, X):\n",
    "        \"\"\"Make predictions using the trained Decision Tree.\n",
    "\n",
    "        Parameters:\n",
    "        - X (numpy.ndarray): The input features for multiple samples.\n",
    "\n",
    "        Returns:\n",
    "        - numpy.ndarray: The predicted class labels for each sample.\n",
    "        \"\"\"\n",
    "        if self.value is not None:\n",
    "            # This node is a leaf node\n",
    "            return np.full(X.shape[0], self.value)\n",
    "        else:\n",
    "            # Traverse the left or right subtree based on the condition\n",
    "            left_mask = X[:, self.feature_index] <= self.threshold\n",
    "            right_mask = ~left_mask\n",
    "            predictions = np.zeros(X.shape[0], dtype=int)\n",
    "            predictions[left_mask] = self.left.predict(X[left_mask, :])\n",
    "            predictions[right_mask] = self.right.predict(X[right_mask, :])\n",
    "            return predictions\n",
    "\n",
    "    def calculate_gini_index(self, y, left_mask, right_mask):\n",
    "        \"\"\"Calculate the Gini index for a split.\n",
    "\n",
    "        Parameters:\n",
    "        - y (numpy.ndarray): The target values.\n",
    "        - left_mask (numpy.ndarray): Boolean mask indicating the samples in the left split.\n",
    "        - right_mask (numpy.ndarray): Boolean mask indicating the samples in the right split.\n",
    "\n",
    "        Returns:\n",
    "        - float: The Gini index.\n",
    "        \"\"\"\n",
    "        left_gini = self.calculate_gini_impurity(y[left_mask])\n",
    "        right_gini = self.calculate_gini_impurity(y[right_mask])\n",
    "\n",
    "        left_size = np.sum(left_mask)\n",
    "        right_size = np.sum(right_mask)\n",
    "        total_size = left_size + right_size\n",
    "\n",
    "        gini_index = (left_size / total_size) * left_gini + (right_size / total_size) * right_gini\n",
    "        return gini_index\n",
    "\n",
    "    def calculate_gini_impurity(self, y):\n",
    "        \"\"\"Calculate the Gini impurity for a node.\n",
    "\n",
    "        Parameters:\n",
    "        - y (numpy.ndarray): The target values.\n",
    "\n",
    "        Returns:\n",
    "        - float: The Gini impurity.\n",
    "        \"\"\"\n",
    "        unique_classes, class_counts = np.unique(y, return_counts=True)\n",
    "        probabilities = class_counts / len(y)\n",
    "        gini_impurity = 1 - np.sum(probabilities ** 2)\n",
    "        return gini_impurity\n"
   ]
  },
  {
   "cell_type": "markdown",
   "metadata": {},
   "source": [
    "## Step 2: Random Forest Implementation\n",
    "Now, let's implement the Random Forest class, which will consist of multiple Decision Trees."
   ]
  },
  {
   "cell_type": "code",
   "execution_count": 10,
   "metadata": {},
   "outputs": [],
   "source": [
    "class RandomForest:\n",
    "    def __init__(self, n_trees=100, max_depth=None):\n",
    "        \"\"\"Initialize the Random Forest.\n",
    "\n",
    "        Parameters:\n",
    "        - n_trees (int): The number of Decision Trees in the forest.\n",
    "        - max_depth (int): The maximum depth of each Decision Tree. If None, the trees will grow until each leaf contains less than 2 samples.\n",
    "        \"\"\"\n",
    "        self.n_trees = n_trees\n",
    "        self.max_depth = max_depth\n",
    "        self.trees = []\n",
    "\n",
    "    def fit(self, X, y):\n",
    "        \"\"\"Fit the Random Forest to the training data.\n",
    "\n",
    "        Parameters:\n",
    "        - X (numpy.ndarray): The input features.\n",
    "        - y (numpy.ndarray): The target values.\n",
    "        \"\"\"\n",
    "        for _ in range(self.n_trees):\n",
    "            tree = DecisionTree(max_depth=self.max_depth)\n",
    "            \n",
    "            # Implement bootstrap sampling and fit the tree\n",
    "            n_samples = X.shape[0]\n",
    "            indices = np.random.choice(n_samples, n_samples, replace=True)\n",
    "            X_bootstrapped, y_bootstrapped = X[indices], y[indices]\n",
    "            \n",
    "            tree.fit(X_bootstrapped, y_bootstrapped)\n",
    "            self.trees.append(tree)\n",
    "\n",
    "    def predict(self, X):\n",
    "        \"\"\"Make predictions using the trained Random Forest.\n",
    "\n",
    "        Parameters:\n",
    "        - X (numpy.ndarray): The input features.\n",
    "\n",
    "        Returns:\n",
    "        - numpy.ndarray: The array of predicted class labels.\n",
    "        \"\"\"\n",
    "        predictions = np.array([tree.predict(X) for tree in self.trees])\n",
    "        # Use a simple majority voting for classification\n",
    "        aggregated_predictions = np.mean(predictions, axis=0)\n",
    "        return np.round(aggregated_predictions).astype(int)\n"
   ]
  },
  {
   "cell_type": "markdown",
   "metadata": {},
   "source": [
    "## Step 3: Visualization\n",
    "We'll create a function to visualize the decision boundaries of our models."
   ]
  },
  {
   "cell_type": "code",
   "execution_count": 11,
   "metadata": {},
   "outputs": [],
   "source": [
    "def plot_decision_boundary(X, y, model, title):\n",
    "    \"\"\"Plot the decision boundaries of a classification model.\n",
    "\n",
    "    Parameters:\n",
    "    - X (numpy.ndarray): The input features.\n",
    "    - y (numpy.ndarray): The true class labels.\n",
    "    - model: The trained model (e.g., Decision Tree or Random Forest).\n",
    "    - title (str): The title of the plot.\n",
    "    \"\"\"\n",
    "    h = 0.02  # Step size in the mesh\n",
    "    x_min, x_max = X[:, 0].min() - 1, X[:, 0].max() + 1\n",
    "    y_min, y_max = X[:, 1].min() - 1, X[:, 1].max() + 1\n",
    "\n",
    "    xx, yy = np.meshgrid(np.arange(x_min, x_max, h), np.arange(y_min, y_max, h))\n",
    "    Z = model.predict(np.c_[xx.ravel(), yy.ravel()])\n",
    "\n",
    "    Z = Z.reshape(xx.shape)\n",
    "\n",
    "    plt.contourf(xx, yy, Z, cmap=plt.cm.Paired, alpha=0.8)\n",
    "    plt.scatter(X[:, 0], X[:, 1], c=y, cmap=plt.cm.Paired)\n",
    "    plt.xlabel('Feature 1')\n",
    "    plt.ylabel('Feature 2')\n",
    "    plt.title(title)\n",
    "    plt.show()\n"
   ]
  },
  {
   "cell_type": "markdown",
   "metadata": {},
   "source": [
    "## Step 4: Data Generation and Model Training\n",
    "Let's generate a synthetic dataset and train our Random Forest on it."
   ]
  },
  {
   "cell_type": "code",
   "execution_count": 12,
   "metadata": {},
   "outputs": [],
   "source": [
    "# Generate synthetic data\n",
    "np.random.seed(42)\n",
    "X = np.random.rand(100, 2)\n",
    "y = (X[:, 0] + X[:, 1] > 1).astype(int)\n",
    "\n",
    "# Split the data into training and testing sets (not needed for this example)\n",
    "# X_train, X_test, y_train, y_test = train_test_split(X, y, test_size=0.2, random_state=42)\n",
    "\n",
    "# Train the Random Forest model\n",
    "rf_model = RandomForest(n_trees=100, max_depth=5)\n",
    "rf_model.fit(X, y)\n"
   ]
  },
  {
   "cell_type": "markdown",
   "metadata": {},
   "source": [
    "## Step 5: Evaluation and Visualization\n",
    "Let's visualize the decision boundaries of our Random Forest."
   ]
  },
  {
   "cell_type": "code",
   "execution_count": 13,
   "metadata": {},
   "outputs": [
    {
     "data": {
      "image/png": "[encoded data removed]",
      "text/plain": [
       "<Figure size 640x480 with 1 Axes>"
      ]
     },
     "metadata": {},
     "output_type": "display_data"
    }
   ],
   "source": [
    "# Visualize the decision boundaries\n",
    "plot_decision_boundary(X, y, rf_model, 'Random Forest Decision Boundaries')\n"
   ]
  },
  {
   "cell_type": "code",
   "execution_count": null,
   "metadata": {},
   "outputs": [],
   "source": []
  }
 ],
 "metadata": {
  "kernelspec": {
   "display_name": "base",
   "language": "python",
   "name": "python3"
  },
  "language_info": {
   "codemirror_mode": {
    "name": "ipython",
    "version": 3
   },
   "file_extension": ".py",
   "mimetype": "text/x-python",
   "name": "python",
   "nbconvert_exporter": "python",
   "pygments_lexer": "ipython3",
   "version": "3.11.5"
  }
 },
 "nbformat": 4,
 "nbformat_minor": 2
}
